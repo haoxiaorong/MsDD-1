{
 "cells": [
  {
   "cell_type": "code",
   "execution_count": 1,
   "metadata": {
    "pycharm": {
     "name": "#%%\n"
    }
   },
   "outputs": [
    {
     "name": "stdout",
     "output_type": "stream",
     "text": [
      "2023-08-26 13:40:34.247265\n"
     ]
    }
   ],
   "source": [
    "import sys\n",
    "sys.path.append(\"/mntc/yxy/MDPP\")\n",
    "import argparse\n",
    "from config.config import Config\n",
    "import numpy as np\n",
    "import networkx as nx\n",
    "import matplotlib.pyplot as plt\n",
    "import pickle as pkl\n",
    "import psutil\n",
    "import threading\n",
    "import os\n",
    "import time\n",
    "from datetime import datetime\n",
    "import math\n",
    "early = 0\n",
    "dataset = \"new_pheme\"\n",
    "start = time.time()\n",
    "cnf = Config(dataset=dataset, version=\"\", early=early)\n",
    "print(datetime.now())"
   ]
  },
  {
   "cell_type": "code",
   "execution_count": 2,
   "metadata": {
    "pycharm": {
     "name": "#%%\n"
    }
   },
   "outputs": [
    {
     "name": "stdout",
     "output_type": "stream",
     "text": [
      "38 122\n"
     ]
    }
   ],
   "source": [
    "from utils.util import read_origin, read_retweets, time_interval\n",
    "\n",
    "datafolder = \"/mntc/yxy/MDPP/data/pheme\"\n",
    "origin = read_origin(cnf.originfolder)\n",
    "fake = read_retweets(cnf.fakefolder)\n",
    "nonfake = read_retweets(cnf.nonfakefolder)\n",
    "\n",
    "\n",
    "def process_samples(Retweet, origin):\n",
    "    degrees = []\n",
    "    for mid, retweets in Retweet:\n",
    "        if mid not in origin:\n",
    "            continue\n",
    "        mids = [mid]\n",
    "        rel = {}\n",
    "        for retweet in retweets:\n",
    "            r_id = retweet[\"mid\"]\n",
    "            mids.append(r_id)\n",
    "            p_id = retweet[\"parent\"]\n",
    "            if p_id not in rel:\n",
    "                rel[p_id] = [r_id]\n",
    "            else:\n",
    "                rel[p_id].append(r_id)\n",
    "        max_val = 0\n",
    "        for val in rel.values():\n",
    "            max_val = max(len(val), max_val)\n",
    "        degrees.append(max_val)\n",
    "\n",
    "    return degrees\n",
    "\n",
    "fake_degrees = process_samples(fake, origin)\n",
    "nonfake_degrees = process_samples(nonfake, origin)\n",
    "f_max= np.max(fake_degrees)\n",
    "nf_max= np.max(nonfake_degrees)\n",
    "print(f_max, nf_max)"
   ]
  },
  {
   "cell_type": "code",
   "execution_count": 3,
   "metadata": {
    "pycharm": {
     "name": "#%%\n"
    }
   },
   "outputs": [],
   "source": [
    "def read_pkl(file):\n",
    "    with open(file, \"rb\") as f:\n",
    "        data = pkl.load(f)\n",
    "    return data\n",
    "repr_folder = f\"/mntc/yxy/MDPP/output/reprs/{dataset}\"\n",
    "fake_file = os.path.join(repr_folder, f\"f_degree_entrophy_time.pkl\")\n",
    "nonfake_file = os.path.join(repr_folder, f\"nf_degree_entrophy_time.pkl\")\n",
    "f_entrophy = read_pkl(fake_file)\n",
    "nf_entrophy = read_pkl(nonfake_file)"
   ]
  },
  {
   "cell_type": "code",
   "execution_count": 4,
   "metadata": {
    "pycharm": {
     "name": "#%%\n"
    }
   },
   "outputs": [
    {
     "name": "stdout",
     "output_type": "stream",
     "text": [
      "5741\n"
     ]
    }
   ],
   "source": [
    "f_mids = [mid for mid in f_entrophy]\n",
    "nf_mids = [mid for mid in nf_entrophy]\n",
    "mids = f_mids + nf_mids\n",
    "print(len(mids))"
   ]
  },
  {
   "cell_type": "code",
   "execution_count": 5,
   "metadata": {
    "pycharm": {
     "name": "#%%\n"
    }
   },
   "outputs": [],
   "source": [
    "# mid = \"AB8TGq5nn\"\n",
    "# # Y = f_entrophy[\"zyBxAfVCi\"]\n",
    "# Y = f_entrophy[mid]\n",
    "# X = [i for i in range(0, len(Y))]\n",
    "# plt.plot(X, Y, color=\"red\")\n",
    "# plt.show()"
   ]
  },
  {
   "cell_type": "code",
   "execution_count": 6,
   "metadata": {
    "pycharm": {
     "name": "#%%\n"
    }
   },
   "outputs": [],
   "source": [
    "from collections import Counter\n",
    "import numpy as np\n",
    "import random\n",
    "from datetime import datetime\n",
    "import pandas as pd\n",
    "# u1=2\n",
    "# alpha=1\n",
    "# u2=0.3\n",
    "# beta=1\n",
    "# down = np.exp(-u1)*alpha\n",
    "# up = np.exp(-u2)*beta\n",
    "# print(down, up)\n",
    "def draw_stages(mid, X, Y, tags, label):\n",
    "    if label == 0:\n",
    "        name = \"fake\"\n",
    "        color = \"red\"\n",
    "    else:\n",
    "        name = \"nonfake\"\n",
    "        color = \"blue\"\n",
    "    X_tag = []\n",
    "    Y_tag = []\n",
    "    for items in tags:\n",
    "        X_tag.append(items[0])\n",
    "        Y_tag.append(items[1])\n",
    "    plt.clf()\n",
    "\n",
    "    plt.plot(X, Y, color=color)\n",
    "    plt.scatter(X_tag, Y_tag, color=\"black\", s=10)\n",
    "    plt.xlabel(\"Time\")\n",
    "    plt.ylabel(\"Entrophy\")\n",
    "    plt.show()\n",
    "    plt.savefig(f\"{dataset}_stages_{mid}_{name}.pdf\")"
   ]
  },
  {
   "cell_type": "code",
   "execution_count": 22,
   "metadata": {
    "pycharm": {
     "name": "#%%\n"
    }
   },
   "outputs": [],
   "source": [
    "l = []\n",
    "def plot_fig(mid,X,Y,label):\n",
    "    # Y = Y[:96]\n",
    "    # X = X[:96]\n",
    "    # ups = [0.1 * i for i in range(1,100)]\n",
    "    up = 0.007\n",
    "    tags = []\n",
    "    # print(mid, Y)\n",
    "    # print(\"Y:\", len(Y))\n",
    "    for item in range(1, len(Y)-1):\n",
    "        if early != 0 and (item+1)*15 > early * 60:\n",
    "            break\n",
    "        d_k1 = (Y[item]-Y[item-1])/15\n",
    "        d_k2 = (Y[item+1]-Y[item])/15\n",
    "        #d = np.abs(d_k1-d_k2)\n",
    "        d = np.abs((d_k1-d_k2)/(1+d_k1*d_k2))\n",
    "        #print(d_k1, d_k2)\n",
    "        # if d_k1 > d_k2:\n",
    "        #     if d_k1 - d_k2 <down:\n",
    "        #         tags.append((item,Y[item]))\n",
    "        #         # print(\"tag\")\n",
    "        # if d_k1 < d_k2:\n",
    "        #     if d_k2-d_k1 > up:\n",
    "        #         tags.append((item,Y[item]))\n",
    "        # print(d)\n",
    "        if d > up:\n",
    "            tags.append((item,Y[item]))\n",
    "#     if len(tags) == 0:\n",
    "#         print(mid, len(Y))\n",
    "    l.append(len(Y))\n",
    "\n",
    "    #draw_stages(mid, X,Y,tags, label)\n",
    "\n",
    "    return tags"
   ]
  },
  {
   "cell_type": "code",
   "execution_count": 8,
   "metadata": {},
   "outputs": [],
   "source": [
    "# f = [\"A3V2lksJm\",\"AcdpNkaSh\",\"DzVjG2pXl\",\"EdHkayXRF\",\"znjFtDdL5\"]\n",
    "# t = [\"AxVzS7Hku\",\"DvNXGbng7\",\"F916W16mf\",\"G8JWo3UMX\",\"HdJd4d1sH\"]\n",
    "# tag_list = []\n",
    "# for mid in f:\n",
    "#     Y = f_entrophy[mid]\n",
    "#     if len(Y) > 96:\n",
    "#         Y = Y[:96]\n",
    "#     X = [i for i in range(0, len(Y))]\n",
    "#     tag = plot_fig(mid, X, Y,0)\n",
    "#     tag_list.append(tag)\n",
    "\n",
    "# for mid in t:\n",
    "#     Y = nf_entrophy[mid]\n",
    "#     if len(Y) > 96:\n",
    "#         Y = Y[:96]\n",
    "#     X = [i for i in range(0, len(Y))]\n",
    "#     tag = plot_fig(mid, X, Y,1)\n",
    "#     tag_list.append(tag)"
   ]
  },
  {
   "cell_type": "code",
   "execution_count": 9,
   "metadata": {},
   "outputs": [],
   "source": [
    "# tag_list"
   ]
  },
  {
   "cell_type": "code",
   "execution_count": 10,
   "metadata": {
    "pycharm": {
     "name": "#%%\n"
    }
   },
   "outputs": [],
   "source": [
    "# f_selected_mids = [\"AARuF0nyt\",\"CvW2gf8M3\",\"GdBHGhPvw\"]\n",
    "# nf_selected_mids = [\"HoFiR7HmY\",\"yxAQ1vStp\",\"zoV7Ze2Vr\"]\n",
    "# for mid in f_selected_mids:\n",
    "#     Y = f_entrophy[mid]\n",
    "#     if len(Y) > 96:\n",
    "#         Y = Y[:96]\n",
    "#     X = [i for i in range(0, len(Y))]\n",
    "#     plot_fig(mid, X, Y,0)\n",
    "\n",
    "# for mid in nf_selected_mids:\n",
    "#     Y = nf_entrophy[mid]\n",
    "#     if len(Y) > 96:\n",
    "#         Y = Y[:96]\n",
    "#     X = [i for i in range(0, len(Y))]\n",
    "#     plot_fig(mid, X, Y,1)"
   ]
  },
  {
   "cell_type": "code",
   "execution_count": 11,
   "metadata": {
    "pycharm": {
     "name": "#%%\n"
    }
   },
   "outputs": [],
   "source": [
    "# Tags = {}\n",
    "# fYs = []\n",
    "# nfYs = []\n",
    "# label_f = 0\n",
    "# label_nf = 0\n",
    "# random.shuffle(mids)\n",
    "# cnt = 0\n",
    "# for mid in mids:\n",
    "#     label = -1\n",
    "#     if mid in f_entrophy:\n",
    "#         Y = f_entrophy[mid]\n",
    "#         label = 0\n",
    "#     elif mid in nf_entrophy:\n",
    "#         Y = nf_entrophy[mid]\n",
    "#         label = 1\n",
    "#     else:\n",
    "#         continue\n",
    "#     if len(Y) > 96:\n",
    "#         Y = Y[:96]\n",
    "#     X = [i for i in range(0, len(Y))]\n",
    "#     plot_fig(mid, X, Y,label)\n",
    "#     cnt += 1\n",
    "#     if cnt>=10:\n",
    "#         break"
   ]
  },
  {
   "cell_type": "code",
   "execution_count": 12,
   "metadata": {
    "pycharm": {
     "name": "#%%\n"
    }
   },
   "outputs": [],
   "source": [
    "# Tags = {}\n",
    "# fYs = []\n",
    "# nfYs = []\n",
    "# label_f = 0\n",
    "# label_nf = 0\n",
    "# random.shuffle(mids)\n",
    "# selected_mids = []\n",
    "# for mid in mids:\n",
    "#     label = -1\n",
    "#     if mid in f_entrophy:\n",
    "#         Y = f_entrophy[mid]\n",
    "#         label = 0\n",
    "#         selected_mids.append(mid)\n",
    "#     elif mid in nf_entrophy:\n",
    "#         Y = nf_entrophy[mid]\n",
    "#         label = 1\n",
    "#         selected_mids.append(mid)\n",
    "#     else:\n",
    "#         continue\n",
    "#     if len(Y) > 96 :\n",
    "#         if label_f < 5 and label == 0:\n",
    "#             fYs.append(np.array(Y[:96]))\n",
    "#             label_f += 1\n",
    "#         if label_nf < 5 and label == 1:\n",
    "#             nfYs.append(np.array(Y[:96]))\n",
    "#             label_nf += 1\n",
    "#     X = [i for i in range(0, len(Y))]\n",
    "#     #tags = plot_fig(mid,X,Y)\n",
    "#     #Tags[mid] = tags\n",
    "\n",
    "#     if label_f >= 5 and label_nf >= 5:\n",
    "#         break\n",
    "#     # if len(Tags) > 5:\n",
    "#     #     break\n",
    "# fYs = np.array(fYs)\n",
    "# nfYs = np.array(nfYs)\n",
    "# # print(Ys.shape)\n",
    "# fYs = np.mean(fYs,axis=0)\n",
    "# nfYs = np.mean(nfYs,axis=0)\n",
    "# # print(Ys.shape)\n",
    "# X = [i for i in range(0, len(fYs))]\n",
    "# plt.plot(X, fYs, color=\"red\")\n",
    "# plt.plot(X, nfYs, color=\"blue\")\n",
    "# plt.xlabel(\"Time\")\n",
    "# plt.ylabel(\"Entrophy\")\n",
    "# currentDateAndTime = datetime.now()\n",
    "# currentTime = currentDateAndTime.strftime(\"%Y-%m-%d %H:%M:%S\")\n",
    "# plt.savefig(f\"./entrophy_figs/{dataset}-entrophy-{currentTime}.pdf\")\n",
    "# selected_mids = \",\".join(selected_mids)\n",
    "# res = {}\n",
    "# res[\"time\"] = currentTime\n",
    "# res[\"selected_mids\"] = selected_mids\n",
    "# df = pd.DataFrame(res, index=[0])\n",
    "# res_file = f\"./entrophy_figs/selected_mids.csv\"\n",
    "# if os.path.exists(cnf.result_file):\n",
    "#     df.to_csv(res_file, mode='a', header=False, index=False)\n",
    "# else:\n",
    "#     df.to_csv(res_file, mode='a', header=True, index=False)"
   ]
  },
  {
   "cell_type": "code",
   "execution_count": 13,
   "metadata": {
    "pycharm": {
     "name": "#%%\n"
    },
    "scrolled": false
   },
   "outputs": [],
   "source": [
    "# from collections import Counter\n",
    "# def Draw_loglog(X, Y, labels, name):\n",
    "#     X = np.array(X)\n",
    "#     Y = np.array(Y)\n",
    "\n",
    "#     fontsize = 16\n",
    "\n",
    "#     fig, ax = plt.subplots(1,1, figsize=(5, 5))\n",
    "#     ax.set_xscale(\"log\")\n",
    "#     ax.set_yscale(\"log\")\n",
    "#     ax.scatter(X, Y,s=10, c='black')\n",
    "#     # ax.set_xticks(fontsize=fontsize)\n",
    "#     # ax.set_yticks(fontsize=fontsize)\n",
    "#     ax.set_xlabel(labels[0], fontsize=fontsize)\n",
    "#     ax.set_ylabel(labels[1], fontsize=fontsize)\n",
    "#     fig.savefig(f\"{dataset}-{name}.pdf\")\n",
    "\n",
    "# l_Tags = []\n",
    "# for mid in mids:\n",
    "#     label = -1\n",
    "#     if mid in f_entrophy:\n",
    "#         Y = f_entrophy[mid]\n",
    "#         label = 0\n",
    "#     elif mid in nf_entrophy:\n",
    "#         Y = nf_entrophy[mid]\n",
    "#         label = 1\n",
    "#     else:\n",
    "#         continue\n",
    "#     # if len(Y) > 96:\n",
    "#     #     Y = Y[:96]\n",
    "#     X = [i for i in range(0, len(Y))]\n",
    "#     tags = plot_fig(mid, X, Y,label)\n",
    "#     l_Tags.append(len(tags))\n",
    "# # print(l_Tags[:10])\n",
    "# res = Counter(l_Tags)\n",
    "# X = []\n",
    "# Y = []\n",
    "# for k, v in res.items():\n",
    "#     X.append(k)\n",
    "#     Y.append(v)\n",
    "# Draw_loglog(X,Y,[\"Number of Stages\",\"Number of Origin Tweets\"],\"Stages\")\n",
    "# # print(res)"
   ]
  },
  {
   "cell_type": "code",
   "execution_count": 14,
   "metadata": {},
   "outputs": [],
   "source": [
    "# len(nf_entrophy)"
   ]
  },
  {
   "cell_type": "code",
   "execution_count": 15,
   "metadata": {},
   "outputs": [],
   "source": [
    "# def monitor_memory():\n",
    "#     while True:\n",
    "#         memory_info = psutil.virtual_memory()\n",
    "#         print(f\"Used memory: {memory_info.used / (1024 ** 3):.2f} GB\")\n",
    "#         # Add a suitable time delay between memory checks\n",
    "#         time.sleep(1)"
   ]
  },
  {
   "cell_type": "code",
   "execution_count": 16,
   "metadata": {},
   "outputs": [
    {
     "name": "stdout",
     "output_type": "stream",
     "text": [
      "3.4394617080688477\n"
     ]
    }
   ],
   "source": [
    "print(time.time()-start)"
   ]
  },
  {
   "cell_type": "code",
   "execution_count": 24,
   "metadata": {},
   "outputs": [
    {
     "data": {
      "text/plain": [
       "4.84"
      ]
     },
     "execution_count": 24,
     "metadata": {},
     "output_type": "execute_result"
    }
   ],
   "source": [
    "3.43+1.41"
   ]
  },
  {
   "cell_type": "code",
   "execution_count": 23,
   "metadata": {},
   "outputs": [
    {
     "name": "stdout",
     "output_type": "stream",
     "text": [
      "1.4078304767608643\n"
     ]
    }
   ],
   "source": [
    "# memory_thread = threading.Thread(target=monitor_memory)\n",
    "# memory_thread.start()\n",
    "start = time.time()\n",
    "Tags = {}\n",
    "fYs = []\n",
    "nfYs = []\n",
    "label_f = 0\n",
    "label_nf = 0\n",
    "random.shuffle(mids)\n",
    "cnt = 0\n",
    "for mid in mids:\n",
    "    label = -1\n",
    "    if mid in f_entrophy:\n",
    "        Y = f_entrophy[mid]\n",
    "        label = 0\n",
    "    elif mid in nf_entrophy:\n",
    "        Y = nf_entrophy[mid]\n",
    "        label = 1\n",
    "    else:\n",
    "        continue\n",
    "#     if len(Y) > 96:\n",
    "#         Y = Y[:96]\n",
    "    X = [i for i in range(0, len(Y))]\n",
    "    tags = plot_fig(mid, X, Y,label)\n",
    "    Tags[mid] = tags\n",
    "    '''cnt += 1\n",
    "    if cnt>=10:\n",
    "        break'''\n",
    "tagfile = cnf.tagsfile\n",
    "# print(tagfile)\n",
    "with open(tagfile, \"wb\") as f:\n",
    "    pkl.dump(Tags,f)\n",
    "print(time.time()-start)\n",
    "# memory_thread.join()"
   ]
  },
  {
   "cell_type": "code",
   "execution_count": 18,
   "metadata": {},
   "outputs": [
    {
     "data": {
      "text/plain": [
       "5741"
      ]
     },
     "execution_count": 18,
     "metadata": {},
     "output_type": "execute_result"
    }
   ],
   "source": [
    "len(Tags)"
   ]
  },
  {
   "cell_type": "code",
   "execution_count": 19,
   "metadata": {
    "pycharm": {
     "name": "#%%\n"
    }
   },
   "outputs": [],
   "source": [
    "#if early==0:\n",
    "#     tagfile = os.path.join(cnf.datafolder,\"tags.pkl\")\n",
    "# else:\n",
    "#     tagfile = os.path.join(cnf.datafolder,f\"tags_{str(early)}.pkl\")\n",
    "\n"
   ]
  },
  {
   "cell_type": "code",
   "execution_count": 20,
   "metadata": {
    "pycharm": {
     "name": "#%%\n"
    }
   },
   "outputs": [
    {
     "name": "stdout",
     "output_type": "stream",
     "text": [
      "(0, 1135)\n",
      "(1, 821)\n",
      "(2, 696)\n",
      "(3, 701)\n",
      "(4, 497)\n",
      "(5, 458)\n",
      "(6, 344)\n",
      "(7, 276)\n",
      "(8, 193)\n",
      "(9, 148)\n",
      "(10, 99)\n",
      "(11, 94)\n",
      "(12, 71)\n",
      "(13, 57)\n",
      "(14, 39)\n",
      "(15, 25)\n",
      "(16, 30)\n",
      "(17, 21)\n",
      "(18, 12)\n",
      "(19, 8)\n",
      "(20, 1)\n",
      "(21, 5)\n",
      "(22, 2)\n",
      "(23, 3)\n",
      "(24, 3)\n",
      "(25, 1)\n",
      "(28, 1)\n"
     ]
    }
   ],
   "source": [
    "# 各样本分了多少阶段\n",
    "cnt = 0\n",
    "stages = []\n",
    "for k,v in Tags.items():\n",
    "    stages.append(len(v))\n",
    "res = Counter(stages)\n",
    "tmp = []\n",
    "for k,v in res.items():\n",
    "    tmp.append((k,v))\n",
    "tmp = sorted(tmp, key=lambda x:x[0])\n",
    "for item in tmp:\n",
    "    print(item)"
   ]
  },
  {
   "cell_type": "code",
   "execution_count": 21,
   "metadata": {
    "pycharm": {
     "name": "#%%\n"
    }
   },
   "outputs": [
    {
     "data": {
      "text/plain": [
       "Counter({0: 1135,\n",
       "         4: 497,\n",
       "         2: 696,\n",
       "         1: 821,\n",
       "         5: 458,\n",
       "         10: 99,\n",
       "         6: 344,\n",
       "         3: 701,\n",
       "         7: 276,\n",
       "         8: 193,\n",
       "         16: 30,\n",
       "         9: 148,\n",
       "         15: 25,\n",
       "         21: 5,\n",
       "         14: 39,\n",
       "         11: 94,\n",
       "         12: 71,\n",
       "         13: 57,\n",
       "         18: 12,\n",
       "         17: 21,\n",
       "         20: 1,\n",
       "         23: 3,\n",
       "         19: 8,\n",
       "         25: 1,\n",
       "         24: 3,\n",
       "         28: 1,\n",
       "         22: 2})"
      ]
     },
     "execution_count": 21,
     "metadata": {},
     "output_type": "execute_result"
    }
   ],
   "source": [
    "res"
   ]
  },
  {
   "cell_type": "code",
   "execution_count": null,
   "metadata": {},
   "outputs": [],
   "source": []
  }
 ],
 "metadata": {
  "kernelspec": {
   "display_name": "nn",
   "language": "python",
   "name": "nn"
  },
  "language_info": {
   "codemirror_mode": {
    "name": "ipython",
    "version": 3
   },
   "file_extension": ".py",
   "mimetype": "text/x-python",
   "name": "python",
   "nbconvert_exporter": "python",
   "pygments_lexer": "ipython3",
   "version": "3.7.7"
  }
 },
 "nbformat": 4,
 "nbformat_minor": 1
}
